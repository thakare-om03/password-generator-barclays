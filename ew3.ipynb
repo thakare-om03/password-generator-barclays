{
 "cells": [
  {
   "cell_type": "code",
   "execution_count": 1,
   "metadata": {},
   "outputs": [],
   "source": [
    "import random\n",
    "import math\n",
    "import yaml\n",
    "\n"
   ]
  },
  {
   "cell_type": "code",
   "execution_count": 2,
   "metadata": {},
   "outputs": [],
   "source": [
    "# Load password policy from config/policy.yml\n",
    "def load_policy():\n",
    "    policy = {\n",
    "        \"min_length\": 12,\n",
    "        \"require_upper\": True,\n",
    "        \"require_lower\": True,\n",
    "        \"require_digits\": True,\n",
    "        \"require_special\": True,\n",
    "        \"max_breach_count\": 0,\n",
    "        \"min_entropy\": 60,\n",
    "        \"special_chars\": \"!@#$%^&*(),.?\\\":{}|<>\"\n",
    "    }\n",
    "    return policy\n",
    "\n",
    "policy = load_policy()\n",
    "\n"
   ]
  },
  {
   "cell_type": "code",
   "execution_count": 3,
   "metadata": {},
   "outputs": [],
   "source": [
    "# Function to calculate entropy of a password\n",
    "def calculate_entropy(password):\n",
    "    charset_size = 0\n",
    "    if any(c.islower() for c in password):\n",
    "        charset_size += 26  # Lowercase letters\n",
    "    if any(c.isupper() for c in password):\n",
    "        charset_size += 26  # Uppercase letters\n",
    "    if any(c.isdigit() for c in password):\n",
    "        charset_size += 10  # Digits\n",
    "    if any(c in policy[\"special_chars\"] for c in password):\n",
    "        charset_size += len(policy[\"special_chars\"])  # Special characters\n",
    "    \n",
    "    entropy = math.log2(charset_size ** len(password))\n",
    "    return round(entropy, 2)  # Round to 2 decimal places\n",
    "\n",
    "\n"
   ]
  },
  {
   "cell_type": "code",
   "execution_count": 4,
   "metadata": {},
   "outputs": [],
   "source": [
    "# Function to validate password against policy\n",
    "def validate_password(password):\n",
    "    if len(password) < policy[\"min_length\"]:\n",
    "        return False, f\"Password must be at least {policy['min_length']} characters long.\"\n",
    "    if policy[\"require_upper\"] and not any(c.isupper() for c in password):\n",
    "        return False, \"Password must contain at least one uppercase letter.\"\n",
    "    if policy[\"require_lower\"] and not any(c.islower() for c in password):\n",
    "        return False, \"Password must contain at least one lowercase letter.\"\n",
    "    if policy[\"require_digits\"] and not any(c.isdigit() for c in password):\n",
    "        return False, \"Password must contain at least one digit.\"\n",
    "    if policy[\"require_special\"] and not any(c in policy[\"special_chars\"] for c in password):\n",
    "        return False, \"Password must contain at least one special character.\"\n",
    "    \n",
    "    entropy = calculate_entropy(password)\n",
    "    if entropy < policy[\"min_entropy\"]:\n",
    "        return False, f\"Password entropy ({entropy} bits) is too low. Minimum required: {policy['min_entropy']} bits.\"\n",
    "    \n",
    "    return True, \"Password meets all security requirements.\"\n",
    "\n"
   ]
  },
  {
   "cell_type": "code",
   "execution_count": 5,
   "metadata": {},
   "outputs": [],
   "source": [
    "# Function to enhance password\n",
    "def enhance_password(password):\n",
    "    substitutions = {\n",
    "        'a': ['@', '4', 'A'], 'b': ['8', 'B'], 'c': ['C', '('],\n",
    "        'e': ['3', 'E'], 'g': ['9', 'G'], 'i': ['1', '!', 'I'],\n",
    "        'l': ['1', 'L'], 'o': ['0', 'O'], 's': ['$', '5', 'S'],\n",
    "        't': ['7', 'T'], 'z': ['2', 'Z'], 'u': ['U', 'ü']\n",
    "    }\n",
    "    \n",
    "    strong_password = ''.join(random.choice(substitutions.get(char, [char])) for char in password)\n",
    "    special_chars = policy[\"special_chars\"]\n",
    "    for _ in range(random.randint(1, 3)):\n",
    "        pos = random.randint(0, len(strong_password))\n",
    "        strong_password = strong_password[:pos] + random.choice(special_chars) + strong_password[pos:]\n",
    "    \n",
    "    return strong_password\n",
    "\n"
   ]
  },
  {
   "cell_type": "code",
   "execution_count": 6,
   "metadata": {},
   "outputs": [],
   "source": [
    "# Function to suggest stronger passwords\n",
    "def suggest_stronger_passwords(password):\n",
    "    suggestions = []\n",
    "    for _ in range(3):\n",
    "        new_password = enhance_password(password)\n",
    "        suggestions.append(new_password)\n",
    "    return suggestions\n",
    "\n"
   ]
  },
  {
   "cell_type": "code",
   "execution_count": 9,
   "metadata": {},
   "outputs": [
    {
     "name": "stdout",
     "output_type": "stream",
     "text": [
      "✅ Password meets all security requirements.\n",
      "🔎 Suggesting stronger variations of your password:\n",
      "🔹 4BCdE@123:4{^56 (Entropy: 95.36 bits)\n",
      "🔹 |AB(>dE@123456 (Entropy: 89.01 bits)\n",
      "🔹 A8,(dE@123456 (Entropy: 82.65 bits)\n"
     ]
    }
   ],
   "source": [
    "# Example Usage\n",
    "low_entropy_pw = input(\"Enter a password: \")\n",
    "low_entropy_score = calculate_entropy(low_entropy_pw)\n",
    "valid, message = validate_password(low_entropy_pw)\n",
    "\n",
    "if not valid:\n",
    "    print(f\"❌ {message}\")\n",
    "    print(\"🔄 Enhancing password...\")\n",
    "    high_entropy_pw = enhance_password(low_entropy_pw)\n",
    "    high_entropy_score = calculate_entropy(high_entropy_pw)\n",
    "    print(\"🟢 Enhanced High-Entropy Password:\", high_entropy_pw, f\"(Entropy: {high_entropy_score} bits)\")\n",
    "else:\n",
    "    print(f\"✅ {message}\")\n",
    "    print(\"🔎 Suggesting stronger variations of your password:\")\n",
    "    for suggestion in suggest_stronger_passwords(low_entropy_pw):\n",
    "        print(f\"🔹 {suggestion} (Entropy: {calculate_entropy(suggestion)} bits)\")"
   ]
  },
  {
   "cell_type": "code",
   "execution_count": null,
   "metadata": {},
   "outputs": [],
   "source": []
  }
 ],
 "metadata": {
  "kernelspec": {
   "display_name": "venv",
   "language": "python",
   "name": "python3"
  },
  "language_info": {
   "codemirror_mode": {
    "name": "ipython",
    "version": 3
   },
   "file_extension": ".py",
   "mimetype": "text/x-python",
   "name": "python",
   "nbconvert_exporter": "python",
   "pygments_lexer": "ipython3",
   "version": "3.13.2"
  }
 },
 "nbformat": 4,
 "nbformat_minor": 2
}
