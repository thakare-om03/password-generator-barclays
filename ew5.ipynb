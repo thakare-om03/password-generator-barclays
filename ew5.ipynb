{
 "cells": [
  {
   "cell_type": "code",
   "execution_count": 1,
   "metadata": {},
   "outputs": [],
   "source": [
    "import random\n",
    "import math\n",
    "import yaml\n",
    "\n"
   ]
  },
  {
   "cell_type": "code",
   "execution_count": 2,
   "metadata": {},
   "outputs": [],
   "source": [
    "# Load password policy from config/policy.yml\n",
    "def load_policy():\n",
    "    policy = {\n",
    "        \"min_length\": 12,\n",
    "        \"require_upper\": True,\n",
    "        \"require_lower\": True,\n",
    "        \"require_digits\": True,\n",
    "        \"require_special\": True,\n",
    "        \"max_breach_count\": 0,\n",
    "        \"min_entropy\": 80,  # Adjusted minimum entropy threshold\n",
    "        \"high_entropy\": 100,  # High entropy threshold\n",
    "        \"special_chars\": \"!@#$%^&*(),.?\\\":{}|<>\"\n",
    "    }\n",
    "    return policy\n",
    "\n",
    "policy = load_policy()\n",
    "\n",
    "\n"
   ]
  },
  {
   "cell_type": "code",
   "execution_count": 3,
   "metadata": {},
   "outputs": [],
   "source": [
    "# Function to calculate entropy of a password\n",
    "def calculate_entropy(password):\n",
    "    charset_size = 0\n",
    "    if any(c.islower() for c in password):\n",
    "        charset_size += 26  # Lowercase letters\n",
    "    if any(c.isupper() for c in password):\n",
    "        charset_size += 26  # Uppercase letters\n",
    "    if any(c.isdigit() for c in password):\n",
    "        charset_size += 10  # Digits\n",
    "    if any(c in policy[\"special_chars\"] for c in password):\n",
    "        charset_size += len(policy[\"special_chars\"])  # Special characters\n",
    "    \n",
    "    entropy = math.log2(charset_size ** len(password))\n",
    "    return round(entropy, 2)  # Round to 2 decimal places\n",
    "\n"
   ]
  },
  {
   "cell_type": "code",
   "execution_count": 4,
   "metadata": {},
   "outputs": [],
   "source": [
    "# Function to enhance password\n",
    "def enhance_password(password):\n",
    "    substitutions = {\n",
    "        'a': ['@', '4', 'A'], 'b': ['8', 'B'], 'c': ['C', '('],\n",
    "        'e': ['3', 'E'], 'g': ['9', 'G'], 'i': ['1', '!', 'I'],\n",
    "        'l': ['1', 'L'], 'o': ['0', 'O'], 's': ['$', '5', 'S'],\n",
    "        't': ['7', 'T'], 'z': ['2', 'Z'], 'u': ['U', 'ü']\n",
    "    }\n",
    "    \n",
    "    strong_password = ''.join(random.choice(substitutions.get(char, [char])) for char in password)\n",
    "    special_chars = policy[\"special_chars\"]\n",
    "    for _ in range(random.randint(1, 3)):\n",
    "        pos = random.randint(0, len(strong_password))\n",
    "        strong_password = strong_password[:pos] + random.choice(special_chars) + strong_password[pos:]\n",
    "    \n",
    "    return strong_password\n",
    "\n"
   ]
  },
  {
   "cell_type": "code",
   "execution_count": 5,
   "metadata": {},
   "outputs": [],
   "source": [
    "# Function to suggest stronger passwords\n",
    "def suggest_stronger_passwords(password):\n",
    "    suggestions = []\n",
    "    for _ in range(3):\n",
    "        new_password = enhance_password(password)\n",
    "        suggestions.append(new_password)\n",
    "    return suggestions\n",
    "\n"
   ]
  },
  {
   "cell_type": "code",
   "execution_count": 8,
   "metadata": {},
   "outputs": [
    {
     "name": "stdout",
     "output_type": "stream",
     "text": [
      "⚠️ Medium-Entropy Password detected (98.73 bits). Consider using a stronger password.\n",
      "🟢 Recommended High-Entropy Password: 4}$kdj(BSdj$@\"334534 (Entropy: 127.15 bits)\n"
     ]
    }
   ],
   "source": [
    "# Example Usage\n",
    "input_password = input(\"Enter a password: \")\n",
    "input_entropy = calculate_entropy(input_password)\n",
    "\n",
    "if input_entropy < policy[\"min_entropy\"]:\n",
    "    print(f\"❌ Entropy too low ({input_entropy} bits). Generating a stronger password similar to yours...\")\n",
    "    enhanced_password = enhance_password(input_password)\n",
    "    enhanced_entropy = calculate_entropy(enhanced_password)\n",
    "    print(f\"🟢 Recommended High-Entropy Password: {enhanced_password} (Entropy: {enhanced_entropy} bits)\")\n",
    "elif input_entropy >= policy[\"high_entropy\"]:\n",
    "    print(f\"✅ High-Entropy Password detected ({input_entropy} bits). However, here are even stronger recommendations:\")\n",
    "    for suggestion in suggest_stronger_passwords(input_password):\n",
    "        print(f\"🔹 {suggestion} (Entropy: {calculate_entropy(suggestion)} bits)\")\n",
    "else:\n",
    "    print(f\"⚠️ Medium-Entropy Password detected ({input_entropy} bits). Consider using a stronger password.\")\n",
    "    enhanced_password = enhance_password(input_password)\n",
    "    enhanced_entropy = calculate_entropy(enhanced_password)\n",
    "    print(f\"🟢 Recommended High-Entropy Password: {enhanced_password} (Entropy: {enhanced_entropy} bits)\")"
   ]
  },
  {
   "cell_type": "code",
   "execution_count": null,
   "metadata": {},
   "outputs": [],
   "source": []
  }
 ],
 "metadata": {
  "kernelspec": {
   "display_name": "venv",
   "language": "python",
   "name": "python3"
  },
  "language_info": {
   "codemirror_mode": {
    "name": "ipython",
    "version": 3
   },
   "file_extension": ".py",
   "mimetype": "text/x-python",
   "name": "python",
   "nbconvert_exporter": "python",
   "pygments_lexer": "ipython3",
   "version": "3.13.2"
  }
 },
 "nbformat": 4,
 "nbformat_minor": 2
}
