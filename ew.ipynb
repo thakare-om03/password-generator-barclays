{
 "cells": [
  {
   "cell_type": "code",
   "execution_count": 5,
   "metadata": {},
   "outputs": [],
   "source": [
    "import random\n",
    "import math"
   ]
  },
  {
   "cell_type": "code",
   "execution_count": 6,
   "metadata": {},
   "outputs": [],
   "source": [
    "# Function to calculate entropy of a password\n",
    "def calculate_entropy(password):\n",
    "    charset_size = 0\n",
    "    if any(c.islower() for c in password):\n",
    "        charset_size += 26  # Lowercase letters\n",
    "    if any(c.isupper() for c in password):\n",
    "        charset_size += 26  # Uppercase letters\n",
    "    if any(c.isdigit() for c in password):\n",
    "        charset_size += 10  # Digits\n",
    "    if any(c in \"!@#$%^&*()-_=+[]{}|;:'\\\",.<>?/`~\" for c in password):\n",
    "        charset_size += 32  # Special characters (approximate set)\n",
    "\n",
    "    entropy = math.log2(charset_size ** len(password))\n",
    "    return round(entropy, 2)  # Round to 2 decimal places\n",
    "\n",
    "\n"
   ]
  },
  {
   "cell_type": "code",
   "execution_count": 7,
   "metadata": {},
   "outputs": [],
   "source": [
    "# Function to enhance password\n",
    "def enhance_password(password):\n",
    "    substitutions = {\n",
    "        'a': ['@', '4', 'A'], 'b': ['8', 'B'], 'c': ['C', '('],\n",
    "        'e': ['3', 'E'], 'g': ['9', 'G'], 'i': ['1', '!', 'I'],\n",
    "        'l': ['1', 'L'], 'o': ['0', 'O'], 's': ['$', '5', 'S'],\n",
    "        't': ['7', 'T'], 'z': ['2', 'Z'], 'u': ['U', 'ü']\n",
    "    }\n",
    "    \n",
    "    # Apply substitutions with randomness\n",
    "    strong_password = ''.join(random.choice(substitutions.get(char, [char])) for char in password)\n",
    "    \n",
    "    # Add random special characters\n",
    "    special_chars = \"!@#$%^&*()-_=+[]{}|;:'\\\",.<>?/`~\"\n",
    "    for _ in range(random.randint(1, 3)):  # Add 1 to 3 special characters randomly\n",
    "        pos = random.randint(0, len(strong_password))\n",
    "        strong_password = strong_password[:pos] + random.choice(special_chars) + strong_password[pos:]\n",
    "\n",
    "    return strong_password\n",
    "\n",
    "\n"
   ]
  },
  {
   "cell_type": "code",
   "execution_count": 10,
   "metadata": {},
   "outputs": [],
   "source": [
    "# Example Usage\n",
    "low_entropy_pw = input()\n",
    "high_entropy_pw = enhance_password(low_entropy_pw)\n"
   ]
  },
  {
   "cell_type": "code",
   "execution_count": 11,
   "metadata": {},
   "outputs": [
    {
     "name": "stdout",
     "output_type": "stream",
     "text": [
      "🔴 Low-Entropy Password: A(h)@L (Entropy: 38.35 bits)\n",
      "🟢 High-Entropy Password: A(%h)@\"L (Entropy: 51.14 bits)\n"
     ]
    }
   ],
   "source": [
    "\n",
    "# Calculate entropy for both\n",
    "low_entropy_score = calculate_entropy(low_entropy_pw)\n",
    "high_entropy_score = calculate_entropy(high_entropy_pw)\n",
    "\n",
    "print(\"🔴 Low-Entropy Password:\", low_entropy_pw, f\"(Entropy: {low_entropy_score} bits)\")\n",
    "print(\"🟢 High-Entropy Password:\", high_entropy_pw, f\"(Entropy: {high_entropy_score} bits)\")"
   ]
  },
  {
   "cell_type": "code",
   "execution_count": null,
   "metadata": {},
   "outputs": [],
   "source": []
  }
 ],
 "metadata": {
  "kernelspec": {
   "display_name": "venv",
   "language": "python",
   "name": "python3"
  },
  "language_info": {
   "codemirror_mode": {
    "name": "ipython",
    "version": 3
   },
   "file_extension": ".py",
   "mimetype": "text/x-python",
   "name": "python",
   "nbconvert_exporter": "python",
   "pygments_lexer": "ipython3",
   "version": "3.13.2"
  }
 },
 "nbformat": 4,
 "nbformat_minor": 2
}
