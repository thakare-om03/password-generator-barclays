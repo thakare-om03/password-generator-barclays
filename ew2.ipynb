{
 "cells": [
  {
   "cell_type": "code",
   "execution_count": 4,
   "metadata": {},
   "outputs": [],
   "source": [
    "import random\n",
    "import math\n",
    "import yaml\n"
   ]
  },
  {
   "cell_type": "code",
   "execution_count": 5,
   "metadata": {},
   "outputs": [],
   "source": [
    "# Load password policy from config/policy.yml\n",
    "def load_policy():\n",
    "    policy = {\n",
    "        \"min_length\": 12,\n",
    "        \"require_upper\": True,\n",
    "        \"require_lower\": True,\n",
    "        \"require_digits\": True,\n",
    "        \"require_special\": True,\n",
    "        \"max_breach_count\": 0,\n",
    "        \"min_entropy\": 60,\n",
    "        \"special_chars\": \"!@#$%^&*(),.?\\\":{}|<>\"\n",
    "    }\n",
    "    return policy\n",
    "\n",
    "policy = load_policy()"
   ]
  },
  {
   "cell_type": "code",
   "execution_count": 6,
   "metadata": {},
   "outputs": [],
   "source": [
    "# Function to calculate entropy of a password\n",
    "def calculate_entropy(password):\n",
    "    charset_size = 0\n",
    "    if any(c.islower() for c in password):\n",
    "        charset_size += 26  # Lowercase letters\n",
    "    if any(c.isupper() for c in password):\n",
    "        charset_size += 26  # Uppercase letters\n",
    "    if any(c.isdigit() for c in password):\n",
    "        charset_size += 10  # Digits\n",
    "    if any(c in policy[\"special_chars\"] for c in password):\n",
    "        charset_size += len(policy[\"special_chars\"])  # Special characters\n",
    "    \n",
    "    entropy = math.log2(charset_size ** len(password))\n",
    "    return round(entropy, 2)  # Round to 2 decimal places"
   ]
  },
  {
   "cell_type": "code",
   "execution_count": 7,
   "metadata": {},
   "outputs": [],
   "source": [
    "# Function to validate password against policy\n",
    "def validate_password(password):\n",
    "    if len(password) < policy[\"min_length\"]:\n",
    "        return False, f\"Password must be at least {policy['min_length']} characters long.\"\n",
    "    if policy[\"require_upper\"] and not any(c.isupper() for c in password):\n",
    "        return False, \"Password must contain at least one uppercase letter.\"\n",
    "    if policy[\"require_lower\"] and not any(c.islower() for c in password):\n",
    "        return False, \"Password must contain at least one lowercase letter.\"\n",
    "    if policy[\"require_digits\"] and not any(c.isdigit() for c in password):\n",
    "        return False, \"Password must contain at least one digit.\"\n",
    "    if policy[\"require_special\"] and not any(c in policy[\"special_chars\"] for c in password):\n",
    "        return False, \"Password must contain at least one special character.\"\n",
    "    \n",
    "    entropy = calculate_entropy(password)\n",
    "    if entropy < policy[\"min_entropy\"]:\n",
    "        return False, f\"Password entropy ({entropy} bits) is too low. Minimum required: {policy['min_entropy']} bits.\"\n",
    "    \n",
    "    return True, \"Password meets all security requirements.\""
   ]
  },
  {
   "cell_type": "code",
   "execution_count": 8,
   "metadata": {},
   "outputs": [],
   "source": [
    "# Function to enhance password\n",
    "def enhance_password(password):\n",
    "    substitutions = {\n",
    "        'a': ['@', '4', 'A'], 'b': ['8', 'B'], 'c': ['C', '('],\n",
    "        'e': ['3', 'E'], 'g': ['9', 'G'], 'i': ['1', '!', 'I'],\n",
    "        'l': ['1', 'L'], 'o': ['0', 'O'], 's': ['$', '5', 'S'],\n",
    "        't': ['7', 'T'], 'z': ['2', 'Z'], 'u': ['U', 'ü']\n",
    "    }\n",
    "    \n",
    "    strong_password = ''.join(random.choice(substitutions.get(char, [char])) for char in password)\n",
    "    special_chars = policy[\"special_chars\"]\n",
    "    for _ in range(random.randint(1, 3)):\n",
    "        pos = random.randint(0, len(strong_password))\n",
    "        strong_password = strong_password[:pos] + random.choice(special_chars) + strong_password[pos:]\n",
    "    \n",
    "    return strong_password"
   ]
  },
  {
   "cell_type": "code",
   "execution_count": 12,
   "metadata": {},
   "outputs": [
    {
     "name": "stdout",
     "output_type": "stream",
     "text": [
      "❌ Password must be at least 12 characters long.\n"
     ]
    }
   ],
   "source": [
    "# Example Usage\n",
    "low_entropy_pw = input(\"Enter a password: \")\n",
    "valid, message = validate_password(low_entropy_pw)\n",
    "if not valid:\n",
    "    print(f\"❌ {message}\")\n",
    "else:\n",
    "    high_entropy_pw = enhance_password(low_entropy_pw)\n",
    "    low_entropy_score = calculate_entropy(low_entropy_pw)\n",
    "    high_entropy_score = calculate_entropy(high_entropy_pw)\n",
    "    print(\"🔴 Low-Entropy Password:\", low_entropy_pw, f\"(Entropy: {low_entropy_score} bits)\")\n",
    "    print(\"🟢 High-Entropy Password:\", high_entropy_pw, f\"(Entropy: {high_entropy_score} bits)\")"
   ]
  },
  {
   "cell_type": "code",
   "execution_count": null,
   "metadata": {},
   "outputs": [],
   "source": []
  }
 ],
 "metadata": {
  "kernelspec": {
   "display_name": "venv",
   "language": "python",
   "name": "python3"
  },
  "language_info": {
   "codemirror_mode": {
    "name": "ipython",
    "version": 3
   },
   "file_extension": ".py",
   "mimetype": "text/x-python",
   "name": "python",
   "nbconvert_exporter": "python",
   "pygments_lexer": "ipython3",
   "version": "3.13.2"
  }
 },
 "nbformat": 4,
 "nbformat_minor": 2
}
